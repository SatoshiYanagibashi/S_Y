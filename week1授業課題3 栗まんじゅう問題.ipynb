{
 "cells": [
  {
   "cell_type": "markdown",
   "metadata": {},
   "source": [
    "# 2.栗まんじゅう問題"
   ]
  },
  {
   "cell_type": "markdown",
   "metadata": {},
   "source": [
    "漫画ドラえもんには「バイバイン」という道具が登場する、2のn乗に関する有名なエピソード[1]があります。\n",
    "\n",
    "[1] 藤子・Ｆ・不二雄(1979)『ドラえもん（１７）』小学館.\n",
    "\n",
    "「バイバイン」は薬品で、これを振掛けるとその物体は5分ごとに倍に増えるという働きがあります。作中では栗まんじゅうを増やしますが、食べきれなくなったためロケットを使い宇宙に捨てました。\n",
    "\n",
    "ここで度々話題になるのが、栗まんじゅうはその後宇宙でどのように増えていくのかについてです。様々な議論がされていますが、今回は単純に栗まんじゅうの体積がどう増えるかを計算してみましょう。"
   ]
  },
  {
   "cell_type": "markdown",
   "metadata": {},
   "source": [
    "# 【問題】栗まんじゅうが太陽系を覆う日"
   ]
  },
  {
   "cell_type": "markdown",
   "metadata": {},
   "source": [
    "1個の栗まんじゅうにバイバインを振りかけた場合、太陽系が栗まんじゅうで覆われるのは何分後でしょうか。これを計算するプログラムを作成してください。\n",
    "\n",
    "栗まんじゅうや太陽系の体積を調査した上で仮定して計算してください。栗まんじゅうの隙間や重力などは考えず、問題を単純化して構いません。\n",
    "\n",
    "ボールにバイバインを振りかけた時、東京ドームが一杯になる時間など他の状況にも適用できるような汎用的なプログラムを作成してください。また、グラフを表示するなど分かりやすいノートブックを作成してください。"
   ]
  },
  {
   "cell_type": "markdown",
   "metadata": {},
   "source": [
    "参考:\n",
    "「ドラえもんの道具に『バイバイン』というものがあります。\n",
    "\n",
    "この道具は、使うと5分ごとに1→2、2→4と数が倍になるというものです。\n",
    "\n",
    "ある日、Ｎ君は体積80㎤の栗まんじゅう1個にこの道具を使いましたが、食べるのを忘れて放置してしまいました。\n",
    "\n",
    "さて、栗まんじゅうが宇宙空間を埋め尽くすのにはどれくらいの時間がかかるでしょうか？\n",
    "\n",
    "※ただし宇宙空間は半径138億光年の球であるとする」\n",
    "\n",
    "球の体積の公式　4/3πr^3"
   ]
  },
  {
   "cell_type": "code",
   "execution_count": 4,
   "metadata": {},
   "outputs": [],
   "source": [
    "r = 1.30558080522e+28 #半径cm \n",
    "import math\n",
    "\n",
    "universe_volume = math.pi *4 /3* r**3 #宇宙空間の体積"
   ]
  },
  {
   "cell_type": "code",
   "execution_count": 5,
   "metadata": {
    "scrolled": true
   },
   "outputs": [
    {
     "name": "stdout",
     "output_type": "stream",
     "text": [
      "9.321802096571667e+84\n"
     ]
    }
   ],
   "source": [
    "print(universe_volume)"
   ]
  },
  {
   "cell_type": "code",
   "execution_count": 36,
   "metadata": {},
   "outputs": [
    {
     "ename": "SyntaxError",
     "evalue": "invalid syntax (<ipython-input-36-3587530b0387>, line 16)",
     "output_type": "error",
     "traceback": [
      "\u001b[1;36m  File \u001b[1;32m\"<ipython-input-36-3587530b0387>\"\u001b[1;36m, line \u001b[1;32m16\u001b[0m\n\u001b[1;33m    whlile mulvolume >=universe_volume: #xは比較したい物体の体積\u001b[0m\n\u001b[1;37m                   ^\u001b[0m\n\u001b[1;31mSyntaxError\u001b[0m\u001b[1;31m:\u001b[0m invalid syntax\n"
     ]
    }
   ],
   "source": [
    "time_count = 0\n",
    "kurimanju_volume = 80\n",
    "\n",
    "volume_passage = []\n",
    "\n",
    "def kurimanju_mul(time):\n",
    "    import math\n",
    "    mulvolume = 80*2**(math.floor(time/5))\n",
    "    \n",
    "\n",
    "#for i in range(60*24):\n",
    "    #kurimanju()\n",
    "\n",
    "\n",
    "\n",
    "    whlile mulvolume >=universe_volume: #xは比較したい物体の体積\n",
    "        time_count= time_count +1\n",
    "        return mulvolume\n",
    "\n",
    "print(time_count * 5)\n",
    "    "
   ]
  },
  {
   "cell_type": "code",
   "execution_count": 29,
   "metadata": {},
   "outputs": [
    {
     "data": {
      "text/plain": [
       "320"
      ]
     },
     "execution_count": 29,
     "metadata": {},
     "output_type": "execute_result"
    }
   ],
   "source": [
    "kurimanju_mul(11)"
   ]
  },
  {
   "cell_type": "code",
   "execution_count": null,
   "metadata": {},
   "outputs": [],
   "source": []
  }
 ],
 "metadata": {
  "kernelspec": {
   "display_name": "Python 3",
   "language": "python",
   "name": "python3"
  },
  "language_info": {
   "codemirror_mode": {
    "name": "ipython",
    "version": 3
   },
   "file_extension": ".py",
   "mimetype": "text/x-python",
   "name": "python",
   "nbconvert_exporter": "python",
   "pygments_lexer": "ipython3",
   "version": "3.7.3"
  }
 },
 "nbformat": 4,
 "nbformat_minor": 2
}
